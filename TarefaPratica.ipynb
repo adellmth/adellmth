{
  "nbformat": 4,
  "nbformat_minor": 0,
  "metadata": {
    "colab": {
      "provenance": [],
      "authorship_tag": "ABX9TyPURx5ES5dO2LXxmN96hvKG",
      "include_colab_link": true
    },
    "kernelspec": {
      "name": "python3",
      "display_name": "Python 3"
    },
    "language_info": {
      "name": "python"
    }
  },
  "cells": [
    {
      "cell_type": "markdown",
      "metadata": {
        "id": "view-in-github",
        "colab_type": "text"
      },
      "source": [
        "<a href=\"https://colab.research.google.com/github/adellmth/adellmth/blob/main/TarefaPratica.ipynb\" target=\"_parent\"><img src=\"https://colab.research.google.com/assets/colab-badge.svg\" alt=\"Open In Colab\"/></a>"
      ]
    },
    {
      "cell_type": "code",
      "execution_count": 49,
      "metadata": {
        "colab": {
          "base_uri": "https://localhost:8080/"
        },
        "id": "F7ZHTmmhx01r",
        "outputId": "aa715214-726e-4099-eb16-eadd69ca5687"
      },
      "outputs": [
        {
          "name": "stdout",
          "output_type": "stream",
          "text": [
            "Digite o primeiro número: 15\n",
            "Digite o segundo número: 5\n"
          ]
        }
      ],
      "source": [
        "num1 = input('Digite o primeiro número: ')\n",
        "num2 = input('Digite o segundo número: ')"
      ]
    },
    {
      "cell_type": "code",
      "source": [
        "num1 = float(num1)\n",
        "num2 = float(num2)"
      ],
      "metadata": {
        "id": "kPWRmzW3PlaA"
      },
      "execution_count": 50,
      "outputs": []
    },
    {
      "cell_type": "markdown",
      "source": [
        "Menu de operações"
      ],
      "metadata": {
        "id": "zj8_J4woQMjg"
      }
    },
    {
      "cell_type": "code",
      "source": [
        "print('Escolha a operação:')\n",
        "print('1. Adição')\n",
        "print('2. Subtração')\n",
        "print('3. Multiplicação')\n",
        "print('4. Divisão')\n",
        "print('5. Sair')"
      ],
      "metadata": {
        "colab": {
          "base_uri": "https://localhost:8080/"
        },
        "id": "Y42A3oGsQP7n",
        "outputId": "a619800f-089c-4990-9576-62448d766142"
      },
      "execution_count": 51,
      "outputs": [
        {
          "output_type": "stream",
          "name": "stdout",
          "text": [
            "Escolha a operação:\n",
            "1. Adição\n",
            "2. Subtração\n",
            "3. Multiplicação\n",
            "4. Divisão\n",
            "5. Sair\n"
          ]
        }
      ]
    },
    {
      "cell_type": "code",
      "source": [
        "opção = input('Digite o número da opção desejada: ')\n",
        "if opção == '1':\n",
        "  resultado = num1 + num2\n",
        "  print('Resultado da adição:' ,resultado,)\n",
        "elif opção == '2':\n",
        "  resultado = num1 - num2\n",
        "  print('Resultado da subtração:' ,resultado,)\n",
        "elif opção == '3':\n",
        "  resultado = num1 * num2\n",
        "  print('Resultado da multiplicação:' ,resultado,)\n",
        "elif opção == '4':\n",
        "  if num2 != 0:\n",
        "     resultado = num1 / num2\n",
        "     print('Resultado da divisão:' ,resultado,)\n",
        "  else:\n",
        "    print('Erro: divisão por zero.')\n",
        "elif opção == '5':\n",
        "  print('Saindo do programa...')\n",
        "else:\n",
        "  print('Opção inválida. Por favor, escolha outra opção.')"
      ],
      "metadata": {
        "colab": {
          "base_uri": "https://localhost:8080/"
        },
        "id": "bm3yrNxpRrLp",
        "outputId": "0e0e9154-4f4f-40bf-d893-4ba2ee8e1ec2"
      },
      "execution_count": 52,
      "outputs": [
        {
          "output_type": "stream",
          "name": "stdout",
          "text": [
            "Digite o número da opção desejada: 3\n",
            "Resultado da multiplicação: 75.0\n"
          ]
        }
      ]
    }
  ]
}